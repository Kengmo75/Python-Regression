{
  "nbformat": 4,
  "nbformat_minor": 0,
  "metadata": {
    "colab": {
      "provenance": [],
      "include_colab_link": true
    },
    "kernelspec": {
      "name": "python3",
      "display_name": "Python 3"
    },
    "language_info": {
      "name": "python"
    }
  },
  "cells": [
    {
      "cell_type": "markdown",
      "metadata": {
        "id": "view-in-github",
        "colab_type": "text"
      },
      "source": [
        "<a href=\"https://colab.research.google.com/github/Kengmo75/Python-Regression/blob/main/Jennifer_Kengmo_Simple_Regression.ipynb\" target=\"_parent\"><img src=\"https://colab.research.google.com/assets/colab-badge.svg\" alt=\"Open In Colab\"/></a>"
      ]
    },
    {
      "cell_type": "markdown",
      "source": [
        "In this notebook you will perform a simple linear regression using Airbnb listings from Austin, TX, USA."
      ],
      "metadata": {
        "id": "_WAYsPtnnXOL"
      }
    },
    {
      "cell_type": "code",
      "source": [
        "import numpy as np\n",
        "import pandas as pd\n",
        "import seaborn as sns\n",
        "import matplotlib.pyplot as plt\n",
        "import statsmodels.api as sm\n",
        "from sklearn.metrics import mean_squared_error\n",
        "from statsmodels.formula.api import ols"
      ],
      "metadata": {
        "id": "59mLSkpt9Mk-"
      },
      "execution_count": null,
      "outputs": []
    },
    {
      "cell_type": "code",
      "execution_count": null,
      "metadata": {
        "colab": {
          "base_uri": "https://localhost:8080/",
          "height": 573
        },
        "id": "9p2TrNIw8jk5",
        "outputId": "3472b2cc-35d5-4f4c-d318-f3c0f841b52b"
      },
      "outputs": [
        {
          "output_type": "execute_result",
          "data": {
            "text/plain": [
              "     id                                               name  host_id  \\\n",
              "0  5456  Guesthouse in Austin · ★4.84 · 1 bedroom · 2 b...     8028   \n",
              "1  5769  Home in Austin · ★4.90 · 1 bedroom · 1 bed · 1...     8186   \n",
              "2  6413  Guesthouse in Austin · ★4.97 · Studio · 1 bed ...    13879   \n",
              "3  6448  Guesthouse in Austin · ★4.97 · 1 bedroom · 2 b...    14156   \n",
              "4  8502  Guest suite in Austin · ★4.56 · 1 bedroom · 1 ...    25298   \n",
              "\n",
              "   host_name  neighbourhood_group  neighbourhood  latitude  longitude  \\\n",
              "0     Sylvia                  NaN          78702  30.26057  -97.73441   \n",
              "1  Elizabeth                  NaN          78729  30.45697  -97.78422   \n",
              "2       Todd                  NaN          78704  30.24885  -97.73587   \n",
              "3        Amy                  NaN          78704  30.26034  -97.76487   \n",
              "4      Karen                  NaN          78741  30.23466  -97.73682   \n",
              "\n",
              "         room_type  price  minimum_nights  number_of_reviews last_review  \\\n",
              "0  Entire home/apt    126               2                657  2023-08-27   \n",
              "1     Private room     45               1                290  2023-08-04   \n",
              "2  Entire home/apt     57              30                122  2022-10-17   \n",
              "3  Entire home/apt    159               3                305  2023-09-04   \n",
              "4  Entire home/apt     48               4                 51  2023-05-16   \n",
              "\n",
              "   reviews_per_month  calculated_host_listings_count  availability_365  \\\n",
              "0               3.72                               1               306   \n",
              "1               1.77                               1                 0   \n",
              "2               0.73                               1                 0   \n",
              "3               2.09                               1               156   \n",
              "4               0.31                               1                98   \n",
              "\n",
              "   number_of_reviews_ltm  license  \n",
              "0                     42      NaN  \n",
              "1                     21      NaN  \n",
              "2                      3      NaN  \n",
              "3                     17      NaN  \n",
              "4                      3      NaN  "
            ],
            "text/html": [
              "\n",
              "  <div id=\"df-305e2056-2d4c-4279-8af2-eaa0a1b9c1a5\" class=\"colab-df-container\">\n",
              "    <div>\n",
              "<style scoped>\n",
              "    .dataframe tbody tr th:only-of-type {\n",
              "        vertical-align: middle;\n",
              "    }\n",
              "\n",
              "    .dataframe tbody tr th {\n",
              "        vertical-align: top;\n",
              "    }\n",
              "\n",
              "    .dataframe thead th {\n",
              "        text-align: right;\n",
              "    }\n",
              "</style>\n",
              "<table border=\"1\" class=\"dataframe\">\n",
              "  <thead>\n",
              "    <tr style=\"text-align: right;\">\n",
              "      <th></th>\n",
              "      <th>id</th>\n",
              "      <th>name</th>\n",
              "      <th>host_id</th>\n",
              "      <th>host_name</th>\n",
              "      <th>neighbourhood_group</th>\n",
              "      <th>neighbourhood</th>\n",
              "      <th>latitude</th>\n",
              "      <th>longitude</th>\n",
              "      <th>room_type</th>\n",
              "      <th>price</th>\n",
              "      <th>minimum_nights</th>\n",
              "      <th>number_of_reviews</th>\n",
              "      <th>last_review</th>\n",
              "      <th>reviews_per_month</th>\n",
              "      <th>calculated_host_listings_count</th>\n",
              "      <th>availability_365</th>\n",
              "      <th>number_of_reviews_ltm</th>\n",
              "      <th>license</th>\n",
              "    </tr>\n",
              "  </thead>\n",
              "  <tbody>\n",
              "    <tr>\n",
              "      <th>0</th>\n",
              "      <td>5456</td>\n",
              "      <td>Guesthouse in Austin · ★4.84 · 1 bedroom · 2 b...</td>\n",
              "      <td>8028</td>\n",
              "      <td>Sylvia</td>\n",
              "      <td>NaN</td>\n",
              "      <td>78702</td>\n",
              "      <td>30.26057</td>\n",
              "      <td>-97.73441</td>\n",
              "      <td>Entire home/apt</td>\n",
              "      <td>126</td>\n",
              "      <td>2</td>\n",
              "      <td>657</td>\n",
              "      <td>2023-08-27</td>\n",
              "      <td>3.72</td>\n",
              "      <td>1</td>\n",
              "      <td>306</td>\n",
              "      <td>42</td>\n",
              "      <td>NaN</td>\n",
              "    </tr>\n",
              "    <tr>\n",
              "      <th>1</th>\n",
              "      <td>5769</td>\n",
              "      <td>Home in Austin · ★4.90 · 1 bedroom · 1 bed · 1...</td>\n",
              "      <td>8186</td>\n",
              "      <td>Elizabeth</td>\n",
              "      <td>NaN</td>\n",
              "      <td>78729</td>\n",
              "      <td>30.45697</td>\n",
              "      <td>-97.78422</td>\n",
              "      <td>Private room</td>\n",
              "      <td>45</td>\n",
              "      <td>1</td>\n",
              "      <td>290</td>\n",
              "      <td>2023-08-04</td>\n",
              "      <td>1.77</td>\n",
              "      <td>1</td>\n",
              "      <td>0</td>\n",
              "      <td>21</td>\n",
              "      <td>NaN</td>\n",
              "    </tr>\n",
              "    <tr>\n",
              "      <th>2</th>\n",
              "      <td>6413</td>\n",
              "      <td>Guesthouse in Austin · ★4.97 · Studio · 1 bed ...</td>\n",
              "      <td>13879</td>\n",
              "      <td>Todd</td>\n",
              "      <td>NaN</td>\n",
              "      <td>78704</td>\n",
              "      <td>30.24885</td>\n",
              "      <td>-97.73587</td>\n",
              "      <td>Entire home/apt</td>\n",
              "      <td>57</td>\n",
              "      <td>30</td>\n",
              "      <td>122</td>\n",
              "      <td>2022-10-17</td>\n",
              "      <td>0.73</td>\n",
              "      <td>1</td>\n",
              "      <td>0</td>\n",
              "      <td>3</td>\n",
              "      <td>NaN</td>\n",
              "    </tr>\n",
              "    <tr>\n",
              "      <th>3</th>\n",
              "      <td>6448</td>\n",
              "      <td>Guesthouse in Austin · ★4.97 · 1 bedroom · 2 b...</td>\n",
              "      <td>14156</td>\n",
              "      <td>Amy</td>\n",
              "      <td>NaN</td>\n",
              "      <td>78704</td>\n",
              "      <td>30.26034</td>\n",
              "      <td>-97.76487</td>\n",
              "      <td>Entire home/apt</td>\n",
              "      <td>159</td>\n",
              "      <td>3</td>\n",
              "      <td>305</td>\n",
              "      <td>2023-09-04</td>\n",
              "      <td>2.09</td>\n",
              "      <td>1</td>\n",
              "      <td>156</td>\n",
              "      <td>17</td>\n",
              "      <td>NaN</td>\n",
              "    </tr>\n",
              "    <tr>\n",
              "      <th>4</th>\n",
              "      <td>8502</td>\n",
              "      <td>Guest suite in Austin · ★4.56 · 1 bedroom · 1 ...</td>\n",
              "      <td>25298</td>\n",
              "      <td>Karen</td>\n",
              "      <td>NaN</td>\n",
              "      <td>78741</td>\n",
              "      <td>30.23466</td>\n",
              "      <td>-97.73682</td>\n",
              "      <td>Entire home/apt</td>\n",
              "      <td>48</td>\n",
              "      <td>4</td>\n",
              "      <td>51</td>\n",
              "      <td>2023-05-16</td>\n",
              "      <td>0.31</td>\n",
              "      <td>1</td>\n",
              "      <td>98</td>\n",
              "      <td>3</td>\n",
              "      <td>NaN</td>\n",
              "    </tr>\n",
              "  </tbody>\n",
              "</table>\n",
              "</div>\n",
              "    <div class=\"colab-df-buttons\">\n",
              "\n",
              "  <div class=\"colab-df-container\">\n",
              "    <button class=\"colab-df-convert\" onclick=\"convertToInteractive('df-305e2056-2d4c-4279-8af2-eaa0a1b9c1a5')\"\n",
              "            title=\"Convert this dataframe to an interactive table.\"\n",
              "            style=\"display:none;\">\n",
              "\n",
              "  <svg xmlns=\"http://www.w3.org/2000/svg\" height=\"24px\" viewBox=\"0 -960 960 960\">\n",
              "    <path d=\"M120-120v-720h720v720H120Zm60-500h600v-160H180v160Zm220 220h160v-160H400v160Zm0 220h160v-160H400v160ZM180-400h160v-160H180v160Zm440 0h160v-160H620v160ZM180-180h160v-160H180v160Zm440 0h160v-160H620v160Z\"/>\n",
              "  </svg>\n",
              "    </button>\n",
              "\n",
              "  <style>\n",
              "    .colab-df-container {\n",
              "      display:flex;\n",
              "      gap: 12px;\n",
              "    }\n",
              "\n",
              "    .colab-df-convert {\n",
              "      background-color: #E8F0FE;\n",
              "      border: none;\n",
              "      border-radius: 50%;\n",
              "      cursor: pointer;\n",
              "      display: none;\n",
              "      fill: #1967D2;\n",
              "      height: 32px;\n",
              "      padding: 0 0 0 0;\n",
              "      width: 32px;\n",
              "    }\n",
              "\n",
              "    .colab-df-convert:hover {\n",
              "      background-color: #E2EBFA;\n",
              "      box-shadow: 0px 1px 2px rgba(60, 64, 67, 0.3), 0px 1px 3px 1px rgba(60, 64, 67, 0.15);\n",
              "      fill: #174EA6;\n",
              "    }\n",
              "\n",
              "    .colab-df-buttons div {\n",
              "      margin-bottom: 4px;\n",
              "    }\n",
              "\n",
              "    [theme=dark] .colab-df-convert {\n",
              "      background-color: #3B4455;\n",
              "      fill: #D2E3FC;\n",
              "    }\n",
              "\n",
              "    [theme=dark] .colab-df-convert:hover {\n",
              "      background-color: #434B5C;\n",
              "      box-shadow: 0px 1px 3px 1px rgba(0, 0, 0, 0.15);\n",
              "      filter: drop-shadow(0px 1px 2px rgba(0, 0, 0, 0.3));\n",
              "      fill: #FFFFFF;\n",
              "    }\n",
              "  </style>\n",
              "\n",
              "    <script>\n",
              "      const buttonEl =\n",
              "        document.querySelector('#df-305e2056-2d4c-4279-8af2-eaa0a1b9c1a5 button.colab-df-convert');\n",
              "      buttonEl.style.display =\n",
              "        google.colab.kernel.accessAllowed ? 'block' : 'none';\n",
              "\n",
              "      async function convertToInteractive(key) {\n",
              "        const element = document.querySelector('#df-305e2056-2d4c-4279-8af2-eaa0a1b9c1a5');\n",
              "        const dataTable =\n",
              "          await google.colab.kernel.invokeFunction('convertToInteractive',\n",
              "                                                    [key], {});\n",
              "        if (!dataTable) return;\n",
              "\n",
              "        const docLinkHtml = 'Like what you see? Visit the ' +\n",
              "          '<a target=\"_blank\" href=https://colab.research.google.com/notebooks/data_table.ipynb>data table notebook</a>'\n",
              "          + ' to learn more about interactive tables.';\n",
              "        element.innerHTML = '';\n",
              "        dataTable['output_type'] = 'display_data';\n",
              "        await google.colab.output.renderOutput(dataTable, element);\n",
              "        const docLink = document.createElement('div');\n",
              "        docLink.innerHTML = docLinkHtml;\n",
              "        element.appendChild(docLink);\n",
              "      }\n",
              "    </script>\n",
              "  </div>\n",
              "\n",
              "\n",
              "<div id=\"df-247c1c5a-df09-4d70-a2be-3d5b36efa162\">\n",
              "  <button class=\"colab-df-quickchart\" onclick=\"quickchart('df-247c1c5a-df09-4d70-a2be-3d5b36efa162')\"\n",
              "            title=\"Suggest charts\"\n",
              "            style=\"display:none;\">\n",
              "\n",
              "<svg xmlns=\"http://www.w3.org/2000/svg\" height=\"24px\"viewBox=\"0 0 24 24\"\n",
              "     width=\"24px\">\n",
              "    <g>\n",
              "        <path d=\"M19 3H5c-1.1 0-2 .9-2 2v14c0 1.1.9 2 2 2h14c1.1 0 2-.9 2-2V5c0-1.1-.9-2-2-2zM9 17H7v-7h2v7zm4 0h-2V7h2v10zm4 0h-2v-4h2v4z\"/>\n",
              "    </g>\n",
              "</svg>\n",
              "  </button>\n",
              "\n",
              "<style>\n",
              "  .colab-df-quickchart {\n",
              "      --bg-color: #E8F0FE;\n",
              "      --fill-color: #1967D2;\n",
              "      --hover-bg-color: #E2EBFA;\n",
              "      --hover-fill-color: #174EA6;\n",
              "      --disabled-fill-color: #AAA;\n",
              "      --disabled-bg-color: #DDD;\n",
              "  }\n",
              "\n",
              "  [theme=dark] .colab-df-quickchart {\n",
              "      --bg-color: #3B4455;\n",
              "      --fill-color: #D2E3FC;\n",
              "      --hover-bg-color: #434B5C;\n",
              "      --hover-fill-color: #FFFFFF;\n",
              "      --disabled-bg-color: #3B4455;\n",
              "      --disabled-fill-color: #666;\n",
              "  }\n",
              "\n",
              "  .colab-df-quickchart {\n",
              "    background-color: var(--bg-color);\n",
              "    border: none;\n",
              "    border-radius: 50%;\n",
              "    cursor: pointer;\n",
              "    display: none;\n",
              "    fill: var(--fill-color);\n",
              "    height: 32px;\n",
              "    padding: 0;\n",
              "    width: 32px;\n",
              "  }\n",
              "\n",
              "  .colab-df-quickchart:hover {\n",
              "    background-color: var(--hover-bg-color);\n",
              "    box-shadow: 0 1px 2px rgba(60, 64, 67, 0.3), 0 1px 3px 1px rgba(60, 64, 67, 0.15);\n",
              "    fill: var(--button-hover-fill-color);\n",
              "  }\n",
              "\n",
              "  .colab-df-quickchart-complete:disabled,\n",
              "  .colab-df-quickchart-complete:disabled:hover {\n",
              "    background-color: var(--disabled-bg-color);\n",
              "    fill: var(--disabled-fill-color);\n",
              "    box-shadow: none;\n",
              "  }\n",
              "\n",
              "  .colab-df-spinner {\n",
              "    border: 2px solid var(--fill-color);\n",
              "    border-color: transparent;\n",
              "    border-bottom-color: var(--fill-color);\n",
              "    animation:\n",
              "      spin 1s steps(1) infinite;\n",
              "  }\n",
              "\n",
              "  @keyframes spin {\n",
              "    0% {\n",
              "      border-color: transparent;\n",
              "      border-bottom-color: var(--fill-color);\n",
              "      border-left-color: var(--fill-color);\n",
              "    }\n",
              "    20% {\n",
              "      border-color: transparent;\n",
              "      border-left-color: var(--fill-color);\n",
              "      border-top-color: var(--fill-color);\n",
              "    }\n",
              "    30% {\n",
              "      border-color: transparent;\n",
              "      border-left-color: var(--fill-color);\n",
              "      border-top-color: var(--fill-color);\n",
              "      border-right-color: var(--fill-color);\n",
              "    }\n",
              "    40% {\n",
              "      border-color: transparent;\n",
              "      border-right-color: var(--fill-color);\n",
              "      border-top-color: var(--fill-color);\n",
              "    }\n",
              "    60% {\n",
              "      border-color: transparent;\n",
              "      border-right-color: var(--fill-color);\n",
              "    }\n",
              "    80% {\n",
              "      border-color: transparent;\n",
              "      border-right-color: var(--fill-color);\n",
              "      border-bottom-color: var(--fill-color);\n",
              "    }\n",
              "    90% {\n",
              "      border-color: transparent;\n",
              "      border-bottom-color: var(--fill-color);\n",
              "    }\n",
              "  }\n",
              "</style>\n",
              "\n",
              "  <script>\n",
              "    async function quickchart(key) {\n",
              "      const quickchartButtonEl =\n",
              "        document.querySelector('#' + key + ' button');\n",
              "      quickchartButtonEl.disabled = true;  // To prevent multiple clicks.\n",
              "      quickchartButtonEl.classList.add('colab-df-spinner');\n",
              "      try {\n",
              "        const charts = await google.colab.kernel.invokeFunction(\n",
              "            'suggestCharts', [key], {});\n",
              "      } catch (error) {\n",
              "        console.error('Error during call to suggestCharts:', error);\n",
              "      }\n",
              "      quickchartButtonEl.classList.remove('colab-df-spinner');\n",
              "      quickchartButtonEl.classList.add('colab-df-quickchart-complete');\n",
              "    }\n",
              "    (() => {\n",
              "      let quickchartButtonEl =\n",
              "        document.querySelector('#df-247c1c5a-df09-4d70-a2be-3d5b36efa162 button');\n",
              "      quickchartButtonEl.style.display =\n",
              "        google.colab.kernel.accessAllowed ? 'block' : 'none';\n",
              "    })();\n",
              "  </script>\n",
              "</div>\n",
              "    </div>\n",
              "  </div>\n"
            ]
          },
          "metadata": {},
          "execution_count": 3
        }
      ],
      "source": [
        "listings = pd.read_csv(\"http://data.insideairbnb.com/united-states/tx/austin/2023-09-10/visualisations/listings.csv\")\n",
        "listings.head()"
      ]
    },
    {
      "cell_type": "markdown",
      "source": [
        "## Prepare the data\n",
        "\n",
        "First, we need to prepare the data to fit the model.\n",
        "\n",
        "1.   Determine the predictor and outcome variables.\n",
        "2.   Assess the variables and clean the data as necessary."
      ],
      "metadata": {
        "id": "AGbQsYKZ9TlL"
      }
    },
    {
      "cell_type": "markdown",
      "source": [
        "## Determine the predictor and outcome variables\n",
        "\n",
        "**Predictor/independent variable**\n",
        "\n",
        "We can use the nightly price as our predictor variable.\n",
        "\n",
        "Caveat:\n",
        "- The nightly price could have changed at various points in the past year.\n",
        "\n",
        "**Outcome/dependent variable**\n",
        "\n",
        "We can estimate the number of nights booked in the last year by multiplying the number of reviews in the past year by the minimum number of nights per stay.\n",
        "\n",
        "Caveats:\n",
        "- A stay can be longer than the minimum number of nights.\n",
        "- This doesn't account for any times that the host blocked as non-bookable."
      ],
      "metadata": {
        "id": "3HWIdkX-CRCe"
      }
    },
    {
      "cell_type": "code",
      "source": [
        "# Changing the 'last_review' to datetime format\n",
        "listings['last_review'] = pd.to_datetime(listings['last_review'])\n",
        "\n",
        "# Calculating the number of reviews in the last year\n",
        "reviews_last_year = listings[listings['last_review'] >= listings['last_review'].max() - pd.DateOffset(years=1)]\n",
        "\n",
        "# Estimating the number of nights booked in the last year\n",
        "reviews_last_year['estimated_nights_booked'] = reviews_last_year['minimum_nights'] * reviews_last_year['number_of_reviews']\n",
        "\n",
        "print(reviews_last_year[['number_of_reviews', 'minimum_nights', 'estimated_nights_booked']].head())\n"
      ],
      "metadata": {
        "id": "1NJMZSP3nE64",
        "colab": {
          "base_uri": "https://localhost:8080/"
        },
        "outputId": "b431398c-9ab5-4dee-cdf5-c79a2ed21be8"
      },
      "execution_count": null,
      "outputs": [
        {
          "output_type": "stream",
          "name": "stdout",
          "text": [
            "   number_of_reviews  minimum_nights  estimated_nights_booked\n",
            "0                657               2                     1314\n",
            "1                290               1                      290\n",
            "2                122              30                     3660\n",
            "3                305               3                      915\n",
            "4                 51               4                      204\n"
          ]
        },
        {
          "output_type": "stream",
          "name": "stderr",
          "text": [
            "<ipython-input-49-20ad76c78b88>:8: SettingWithCopyWarning: \n",
            "A value is trying to be set on a copy of a slice from a DataFrame.\n",
            "Try using .loc[row_indexer,col_indexer] = value instead\n",
            "\n",
            "See the caveats in the documentation: https://pandas.pydata.org/pandas-docs/stable/user_guide/indexing.html#returning-a-view-versus-a-copy\n",
            "  reviews_last_year['estimated_nights_booked'] = reviews_last_year['minimum_nights'] * reviews_last_year['number_of_reviews']\n"
          ]
        }
      ]
    },
    {
      "cell_type": "markdown",
      "source": [
        "## Assess the variables and clean the data as necessary\n",
        "\n",
        "Let's take a closer look at estimated nights booked in the last 12 months."
      ],
      "metadata": {
        "id": "IRSO3fxvJKVZ"
      }
    },
    {
      "cell_type": "code",
      "source": [
        "##changing my date to datetime format\n",
        "listings['date_of_last_review'] = pd.to_datetime(listings['last_review'])"
      ],
      "metadata": {
        "id": "smGDo_L8nFZe"
      },
      "execution_count": null,
      "outputs": []
    },
    {
      "cell_type": "code",
      "source": [
        "#Plotting a line graph of the number of nights booked over the last 12 months\n",
        "sns.lineplot(x='date_of_last_review', y='estimated_nights_booked', data=reviews_last_year)\n",
        "plt.xlabel('Date of last review')\n",
        "plt.ylabel('Number of nights booked')\n",
        "plt.title('Number of nights booked over the last 12 months')\n",
        "plt.show()"
      ],
      "metadata": {
        "colab": {
          "base_uri": "https://localhost:8080/",
          "height": 472
        },
        "id": "3ws9E0o_Snm0",
        "outputId": "d7aa00aa-0bc5-4f02-8479-1776b505c2e8"
      },
      "execution_count": null,
      "outputs": [
        {
          "output_type": "display_data",
          "data": {
            "text/plain": [
              "<Figure size 640x480 with 1 Axes>"
            ],
            "image/png": "[encoded data removed]"
          },
          "metadata": {}
        }
      ]
    },
    {
      "cell_type": "markdown",
      "source": [
        "Let's take a closer look at nightly price."
      ],
      "metadata": {
        "id": "UF8sv5eimnKY"
      }
    },
    {
      "cell_type": "code",
      "source": [
        "##Start by getting a summary statistic of the price column\n",
        "print(listings['price'].describe())"
      ],
      "metadata": {
        "id": "RNcVtzu_nFzO",
        "colab": {
          "base_uri": "https://localhost:8080/"
        },
        "outputId": "75af6213-557c-4a1a-9966-3112803b0b27"
      },
      "execution_count": null,
      "outputs": [
        {
          "output_type": "stream",
          "name": "stdout",
          "text": [
            "count    14861.000000\n",
            "mean       269.298769\n",
            "std        549.376464\n",
            "min          1.000000\n",
            "25%         95.000000\n",
            "50%        150.000000\n",
            "75%        266.000000\n",
            "max      19286.000000\n",
            "Name: price, dtype: float64\n"
          ]
        }
      ]
    },
    {
      "cell_type": "code",
      "source": [
        "#Due to the gap between the count and max we will visualize price in a histogram to check for outliers\n",
        "sns.boxplot(y = listings['price'], data = listings)\n",
        "plt.title('Visualizing the nightly prices')\n",
        "plt.ylabel('Price')\n",
        "plt.show()"
      ],
      "metadata": {
        "colab": {
          "base_uri": "https://localhost:8080/",
          "height": 433
        },
        "id": "JdoCRqgFV4KM",
        "outputId": "40a33ef6-dea5-422c-f61e-a867a74d8645"
      },
      "execution_count": null,
      "outputs": [
        {
          "output_type": "display_data",
          "data": {
            "text/plain": [
              "<Figure size 640x480 with 1 Axes>"
            ],
            "image/png": "[encoded data removed]"
          },
          "metadata": {}
        }
      ]
    },
    {
      "cell_type": "code",
      "source": [
        "#Create a visualization to understand the relationship between the nightly prices and the minimum nights\n",
        "sns.scatterplot(x='minimum_nights', y='price', data = listings)\n",
        "plt.xlabel('Mininmum nights')\n",
        "plt.ylabel('Nightly prices')\n",
        "plt.title('Minimum nights stayed vs nightly prices')\n",
        "plt.show()"
      ],
      "metadata": {
        "colab": {
          "base_uri": "https://localhost:8080/",
          "height": 472
        },
        "id": "iokUnqkQXpjQ",
        "outputId": "d8d26b6d-57c7-44af-f281-457242a92a02"
      },
      "execution_count": null,
      "outputs": [
        {
          "output_type": "display_data",
          "data": {
            "text/plain": [
              "<Figure size 640x480 with 1 Axes>"
            ],
            "image/png": "[encoded data removed]"
          },
          "metadata": {}
        }
      ]
    },
    {
      "cell_type": "markdown",
      "source": [
        "## Fitting the model"
      ],
      "metadata": {
        "id": "ZSKsKBcaKMLu"
      }
    },
    {
      "cell_type": "code",
      "source": [
        "#Inorder to fit the data in a linear regression model, we will be using the last_12_months dataset because we want our result specific to the 12 months dataframe\n",
        "#Start by defining dependent and independent variables\n",
        "X = reviews_last_year['price']\n",
        "Y = reviews_last_year['estimated_nights_booked']\n",
        "#adding a constant term to the independent variable\n",
        "X = sm.add_constant(X)\n",
        "#Fit the linear regression model\n",
        "model = sm.OLS(Y, X).fit()\n",
        "print(model.params)"
      ],
      "metadata": {
        "id": "MtmTkKPEnGNA",
        "colab": {
          "base_uri": "https://localhost:8080/"
        },
        "outputId": "d4ea54c7-9845-4103-b0a0-efd9aee86593"
      },
      "execution_count": null,
      "outputs": [
        {
          "output_type": "stream",
          "name": "stdout",
          "text": [
            "const    187.275360\n",
            "price     -0.032238\n",
            "dtype: float64\n"
          ]
        }
      ]
    },
    {
      "cell_type": "markdown",
      "source": [
        "## Assessing Model Fit"
      ],
      "metadata": {
        "id": "vaXDwxSWIEj9"
      }
    },
    {
      "cell_type": "code",
      "source": [
        "#Inorder to assess the model fit, I will start by plotting Residuals\n",
        "residuals = model.resid\n",
        "plt.scatter(model.fittedvalues, residuals)\n",
        "plt.title('Residual Plot')\n",
        "plt.xlabel('Fitted Values')\n",
        "plt.ylabel('Residuals')\n",
        "plt.axhline(y=0, color='r', linestyle='--', linewidth=2)  # Add a horizontal line at y=0\n",
        "plt.show()"
      ],
      "metadata": {
        "id": "T6RyPGJmnGpw",
        "colab": {
          "base_uri": "https://localhost:8080/",
          "height": 472
        },
        "outputId": "74ff8b9a-0a60-42f4-f652-e09bc245cc7f"
      },
      "execution_count": null,
      "outputs": [
        {
          "output_type": "display_data",
          "data": {
            "text/plain": [
              "<Figure size 640x480 with 1 Axes>"
            ],
            "image/png": "[encoded data removed]"
          },
          "metadata": {}
        }
      ]
    },
    {
      "cell_type": "markdown",
      "source": [
        "The Residual plot violates several key assumptions in the above model.\n",
        "Firstly, the points are not random around the y=0 line.\n",
        "Also, there are some outliers which indicates data points with high leverage\n",
        "Looking at the model, I can see an almost linear pattern which indicates a non-linear relationship that the linear model cannot capture"
      ],
      "metadata": {
        "id": "pzVI88uvhIT7"
      }
    },
    {
      "cell_type": "code",
      "source": [
        "# Understanding the R squared value\n",
        "print(model.summary())"
      ],
      "metadata": {
        "colab": {
          "base_uri": "https://localhost:8080/"
        },
        "id": "g5NN9rq1h7eC",
        "outputId": "a7d25b80-8ea2-42ed-ec7a-17bcc0806a78"
      },
      "execution_count": null,
      "outputs": [
        {
          "output_type": "stream",
          "name": "stdout",
          "text": [
            "                               OLS Regression Results                              \n",
            "===================================================================================\n",
            "Dep. Variable:     estimated_nights_booked   R-squared:                       0.000\n",
            "Model:                                 OLS   Adj. R-squared:                  0.000\n",
            "Method:                      Least Squares   F-statistic:                     1.203\n",
            "Date:                     Sat, 30 Dec 2023   Prob (F-statistic):              0.273\n",
            "Time:                             12:13:01   Log-Likelihood:                -74340.\n",
            "No. Observations:                     9113   AIC:                         1.487e+05\n",
            "Df Residuals:                         9111   BIC:                         1.487e+05\n",
            "Df Model:                                1                                         \n",
            "Covariance Type:                 nonrobust                                         \n",
            "==============================================================================\n",
            "                 coef    std err          t      P>|t|      [0.025      0.975]\n",
            "------------------------------------------------------------------------------\n",
            "const        187.2754     11.078     16.905      0.000     165.560     208.991\n",
            "price         -0.0322      0.029     -1.097      0.273      -0.090       0.025\n",
            "==============================================================================\n",
            "Omnibus:                    28490.939   Durbin-Watson:                   1.914\n",
            "Prob(Omnibus):                  0.000   Jarque-Bera (JB):       4404758171.169\n",
            "Skew:                          48.660   Prob(JB):                         0.00\n",
            "Kurtosis:                    3407.541   Cond. No.                         472.\n",
            "==============================================================================\n",
            "\n",
            "Notes:\n",
            "[1] Standard Errors assume that the covariance matrix of the errors is correctly specified.\n"
          ]
        }
      ]
    },
    {
      "cell_type": "markdown",
      "source": [
        "An R-squared value of 0.000 indicates that the relationship between the dependent variable and independent variable is not linear, thus the linear regression model is unable to capture underlying patterns.\n",
        "\n",
        "Also, due to the large volume of outliers in the price, we can say that this affects the performance of the model"
      ],
      "metadata": {
        "id": "JP4Cl75YpI8Q"
      }
    },
    {
      "cell_type": "markdown",
      "source": [
        "# Hypothesis Test"
      ],
      "metadata": {
        "id": "HvMeoQOQufoA"
      }
    },
    {
      "cell_type": "code",
      "source": [
        "# Defining the target variable (y) and features (X)\n",
        "y = reviews_last_year['estimated_nights_booked']\n",
        "X = reviews_last_year[['number_of_reviews', 'minimum_nights']]\n",
        "\n",
        "# Add a constant term to the independent variables\n",
        "X = sm.add_constant(X)\n",
        "\n",
        "# Fitting the linear regression model\n",
        "model = sm.OLS(y, X).fit()"
      ],
      "metadata": {
        "id": "ypV_Uoi_um1N"
      },
      "execution_count": null,
      "outputs": []
    },
    {
      "cell_type": "code",
      "source": [
        "# Individual Coefficients (t-test)\n",
        "# Null hypothesis: The coefficient of a variable is equal to zero\n",
        "# Alternative hypothesis: The coefficient is not equal to zero\n",
        "\n",
        "# Perform t-tests\n",
        "t_test_results = model.t_test([0, 1, 0])  # Test for the first variable, change indices accordingly\n",
        "\n",
        "# Display t-test results\n",
        "print(\"T-Test Results:\")\n",
        "print(t_test_results)"
      ],
      "metadata": {
        "colab": {
          "base_uri": "https://localhost:8080/"
        },
        "id": "yEcnk6QdvXhU",
        "outputId": "e72c10f5-cc42-480f-ba04-1d3ad4fd6eae"
      },
      "execution_count": null,
      "outputs": [
        {
          "output_type": "stream",
          "name": "stdout",
          "text": [
            "T-Test Results:\n",
            "                             Test for Constraints                             \n",
            "==============================================================================\n",
            "                 coef    std err          t      P>|t|      [0.025      0.975]\n",
            "------------------------------------------------------------------------------\n",
            "c0             2.2034      0.067     32.927      0.000       2.072       2.335\n",
            "==============================================================================\n"
          ]
        }
      ]
    },
    {
      "cell_type": "markdown",
      "source": [
        "The above t-test suggests that the coefficient c0 is statistically significant and a p-value of 0.000 provides enough evidence to reject the null hypothesis; 'The c0 of a variable  is equal to 0' in favour of the alternative hypothesis; 'The c0 is not equal to 0.\n",
        "Also, we see that the 95% confidence interval lies between the range of [2.072, 2.335]. This is a positive interval.\n",
        "This results indicates that the associated variable is likely to have a significant impact on the dependent variable"
      ],
      "metadata": {
        "id": "o-b2iqJS0GrM"
      }
    },
    {
      "cell_type": "code",
      "source": [
        "# Overall Model (F-test)\n",
        "# Null hypothesis: All coefficients are equal to zero (no effect)\n",
        "# Alternative hypothesis: At least one coefficient is not equal to zero\n",
        "\n",
        "# Perform F-test\n",
        "f_test_results = model.f_test(\"number_of_reviews = minimum_nights = 0\")\n",
        "\n",
        "# Display F-test results\n",
        "print(\"\\nF-Test Results:\")\n",
        "print(f_test_results)"
      ],
      "metadata": {
        "colab": {
          "base_uri": "https://localhost:8080/"
        },
        "id": "gm9cHVs9wQPR",
        "outputId": "dc73965a-c014-4ee7-be21-82b29679b169"
      },
      "execution_count": null,
      "outputs": [
        {
          "output_type": "stream",
          "name": "stdout",
          "text": [
            "\n",
            "F-Test Results:\n",
            "<F test: F=4330.960953336058, p=0.0, df_denom=9.11e+03, df_num=2>\n"
          ]
        }
      ]
    },
    {
      "cell_type": "markdown",
      "source": [
        "The f-test suggests that the model is statistically significant and with a p-value of 0.0, strong evidence is provided to reject the null hypothesis which states that the 'All coefficients are equal to zero' in favour of the alternative hypothesis that 'At least one coefficient is not equal to zero'"
      ],
      "metadata": {
        "id": "S0YU9Y8zyrbw"
      }
    },
    {
      "cell_type": "markdown",
      "source": [
        "# Can we quantify how much nights booked would go down on average for every $1 increase in price?"
      ],
      "metadata": {
        "id": "6sqFdXHt2gmV"
      }
    },
    {
      "cell_type": "code",
      "source": [
        "# We need our sumamry statistics to understand the variation of price and estimated_nights_booked\n",
        "print(model.summary())"
      ],
      "metadata": {
        "colab": {
          "base_uri": "https://localhost:8080/"
        },
        "id": "KwxInMRA2nfI",
        "outputId": "80b856a1-ff1b-4eb5-da86-68ac3542382e"
      },
      "execution_count": null,
      "outputs": [
        {
          "output_type": "stream",
          "name": "stdout",
          "text": [
            "                               OLS Regression Results                              \n",
            "===================================================================================\n",
            "Dep. Variable:     estimated_nights_booked   R-squared:                       0.000\n",
            "Model:                                 OLS   Adj. R-squared:                  0.000\n",
            "Method:                      Least Squares   F-statistic:                     1.203\n",
            "Date:                     Sat, 30 Dec 2023   Prob (F-statistic):              0.273\n",
            "Time:                             13:13:31   Log-Likelihood:                -74340.\n",
            "No. Observations:                     9113   AIC:                         1.487e+05\n",
            "Df Residuals:                         9111   BIC:                         1.487e+05\n",
            "Df Model:                                1                                         \n",
            "Covariance Type:                 nonrobust                                         \n",
            "==============================================================================\n",
            "                 coef    std err          t      P>|t|      [0.025      0.975]\n",
            "------------------------------------------------------------------------------\n",
            "const        187.2754     11.078     16.905      0.000     165.560     208.991\n",
            "price         -0.0322      0.029     -1.097      0.273      -0.090       0.025\n",
            "==============================================================================\n",
            "Omnibus:                    28490.939   Durbin-Watson:                   1.914\n",
            "Prob(Omnibus):                  0.000   Jarque-Bera (JB):       4404758171.169\n",
            "Skew:                          48.660   Prob(JB):                         0.00\n",
            "Kurtosis:                    3407.541   Cond. No.                         472.\n",
            "==============================================================================\n",
            "\n",
            "Notes:\n",
            "[1] Standard Errors assume that the covariance matrix of the errors is correctly specified.\n"
          ]
        }
      ]
    },
    {
      "cell_type": "markdown",
      "source": [
        "A negative coefficient of price indicates a negative relationship between the price and the estimated_nights_booked.\n",
        "\n",
        "The magnitude of price represents the change in the estimated number of nights booked for a one-unit increase in price.\n",
        "\n",
        "From the results above, the coefficient of price is -0.03 which indicates that for every $1 increase in price, the estimated bookings will fall by 0.03.\n"
      ],
      "metadata": {
        "id": "wsz_wEhp3RQt"
      }
    }
  ]
}
